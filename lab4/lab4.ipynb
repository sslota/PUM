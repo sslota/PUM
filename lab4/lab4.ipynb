{
 "cells": [
  {
   "cell_type": "markdown",
   "metadata": {
    "id": "stdbd-lIooNs"
   },
   "source": [
    "# Metody probabilistyczne"
   ]
  },
  {
   "cell_type": "markdown",
   "metadata": {
    "id": "3ksaJYPoooNx"
   },
   "source": [
    "## Konfiguracja"
   ]
  },
  {
   "cell_type": "markdown",
   "metadata": {
    "id": "nCY5sL5NooN8"
   },
   "source": [
    "Użyjemy bardzo standardowych narzędzi, tych samych, co na laboratorium 3."
   ]
  },
  {
   "cell_type": "code",
   "execution_count": 1,
   "metadata": {
    "id": "nRD0N6LhooOC",
    "scrolled": true
   },
   "outputs": [],
   "source": [
    "# !pip install numpy scipy pandas matplotlib scikit-learn pyarrow"
   ]
  },
  {
   "cell_type": "code",
   "execution_count": 23,
   "metadata": {
    "id": "-pdtVnMcooOF"
   },
   "outputs": [],
   "source": [
    "import matplotlib.pyplot as plt\n",
    "import numpy as np\n",
    "import pandas as pd\n",
    "from sklearn.feature_extraction.text import CountVectorizer\n",
    "from sklearn.naive_bayes import MultinomialNB\n",
    "from sklearn.pipeline import Pipeline\n",
    "from sklearn.model_selection import GridSearchCV\n",
    "from sklearn.feature_extraction.text import TfidfVectorizer\n",
    "from sklearn.metrics import accuracy_score\n",
    "from sklearn.model_selection import ShuffleSplit\n",
    "from sklearn.metrics import mean_absolute_error\n",
    "from sklearn.metrics import recall_score\n",
    "from sklearn.naive_bayes import GaussianNB\n",
    "from sklearn.base import BaseEstimator, ClassifierMixin\n",
    "from sklearn.neighbors import KernelDensity\n",
    "from sklearn.utils import check_array, check_X_y"
   ]
  },
  {
   "cell_type": "markdown",
   "metadata": {
    "id": "thRKyWs9ooOH"
   },
   "source": [
    "## Detekcja spamu"
   ]
  },
  {
   "cell_type": "markdown",
   "metadata": {
    "id": "h13ZlGVeooOJ"
   },
   "source": [
    "Najpierw wykorzystamy klasyfikator Naiwnego Bayesa do klasyfikacji binarnej długich tekstów - czy email jest spamem, czy też nie (tzw. \"ham\"). Takie zadanie nazywa się też spam/ham classification. Zbiorem będzie [Enron Spam dataset](http://nlp.cs.aueb.gr/software_and_datasets/Enron-Spam/index.html), zebrany na potrzeby artykułu:\n",
    "\n",
    "> Metsis, Vangelis, Ion Androutsopoulos, and Georgios Paliouras. *\"Spam filtering with Naive Bayes - which Naive Bayes?.\"* CEAS. Vol. 17. 2006. [link](https://userweb.cs.txstate.edu/~v_m137/docs/papers/ceas2006_paper_corrected.pdf)\n",
    "\n",
    "[Upadek firmy energetycznej Enron](https://userweb.cs.txstate.edu/~v_m137/docs/papers/ceas2006_paper_corrected.pdf) i skandal wywołany wiadomościami o nieprawidłowościach finansowych spowodowały, że podczas śledztwa i procesu zmuszono firmę do upublicznienia pełnej zawartości skrzynek mailowych 150 pracowników. Jest to doskonałe źródło prawdziwych danych, typowych emaili niebędących spamem, i było wykorzystywane wielokrotnie na potrzeby tworzenia wielu różnych zbiorów danych. Na potrzeby powyższego artykułu wybrano 6 pracowników z dużą liczbą emaili.\n",
    "\n",
    "Maile będące spamem otrzymano z 4 różnych źródeł:\n",
    "1. [Zbioru danych SpamAssassin](https://spamassassin.apache.org/old/publiccorpus/) - stworzony z pomocą [Apache SpamAssassin](https://spamassassin.apache.org/), narzędzia open source do detekcji spamu. Maile niebędące spamem są w nim bardzo specyficzne (pochodzą ze skrzynek fundacji Apache i dotyczą praktycznie tylko programownaia), za to spam jest uniwersalny.\n",
    "2. [Project Honeypot](https://www.projecthoneypot.org/) - projekt mający na celu wykrywanie spammerów (w tym przez specjalne pułapki, tzw. spam baiting) i tworzenie baz do filtrowania spamu.\n",
    "3. [Bazę spamu Bruce'a Guentera](http://untroubled.org/spam/) - gromadzi on cały spam, który dostaje na skrzynki (w tym takie do spam baitingu) od 1997 roku.\n",
    "4. Maile ze spamem zgromadzone przez trzeciego autora artykułu, Georgiosa Paliourasa.\n",
    "\n",
    "Artykuł prezentuje spersonalizowane kolekcje maili, dla każdego z 6 wybranych pracowników Enronu. My natomiast połączymy wszystkie dane i stworzymy prosty, uniwersalny filtr. Nasz filtr będzie operował tylko na tytułach i treści maili - prawdziwe systemy są dużo bardziej rozbudowane i wykorzystują metadane, bazy adresów, analizę tagów HTML i XML etc.\n",
    "\n",
    "Wykorzystamy przetworzoną postać tego zbioru w postaci pliku CSV z interesującymi nas elementami. Skrypt do tego wzięto [z tego repozytorium na Githubie](https://github.com/MWiechmann/enron_spam_data?fbclid=IwAR1icPxic8TDD6HGk6empohwcZ76uig0NxwxK7sWbczinBNfxEEt-ETparA)."
   ]
  },
  {
   "cell_type": "code",
   "execution_count": 3,
   "metadata": {
    "colab": {
     "base_uri": "https://localhost:8080/",
     "height": 424
    },
    "id": "lrZ6iumKooON",
    "outputId": "227f8989-1909-4414-a590-94b0582c8082"
   },
   "outputs": [
    {
     "data": {
      "text/html": [
       "\n",
       "  <div id=\"df-f861f7f9-e951-4140-aad6-8343b0835867\">\n",
       "    <div class=\"colab-df-container\">\n",
       "      <div>\n",
       "<style scoped>\n",
       "    .dataframe tbody tr th:only-of-type {\n",
       "        vertical-align: middle;\n",
       "    }\n",
       "\n",
       "    .dataframe tbody tr th {\n",
       "        vertical-align: top;\n",
       "    }\n",
       "\n",
       "    .dataframe thead th {\n",
       "        text-align: right;\n",
       "    }\n",
       "</style>\n",
       "<table border=\"1\" class=\"dataframe\">\n",
       "  <thead>\n",
       "    <tr style=\"text-align: right;\">\n",
       "      <th></th>\n",
       "      <th>Message ID</th>\n",
       "      <th>Subject</th>\n",
       "      <th>Message</th>\n",
       "      <th>Spam/Ham</th>\n",
       "      <th>Date</th>\n",
       "    </tr>\n",
       "  </thead>\n",
       "  <tbody>\n",
       "    <tr>\n",
       "      <th>0</th>\n",
       "      <td>0</td>\n",
       "      <td>christmas tree farm pictures</td>\n",
       "      <td>NaN</td>\n",
       "      <td>ham</td>\n",
       "      <td>1999-12-10</td>\n",
       "    </tr>\n",
       "    <tr>\n",
       "      <th>1</th>\n",
       "      <td>1</td>\n",
       "      <td>vastar resources , inc .</td>\n",
       "      <td>gary , production from the high island larger ...</td>\n",
       "      <td>ham</td>\n",
       "      <td>1999-12-13</td>\n",
       "    </tr>\n",
       "    <tr>\n",
       "      <th>2</th>\n",
       "      <td>2</td>\n",
       "      <td>calpine daily gas nomination</td>\n",
       "      <td>- calpine daily gas nomination 1 . doc</td>\n",
       "      <td>ham</td>\n",
       "      <td>1999-12-14</td>\n",
       "    </tr>\n",
       "    <tr>\n",
       "      <th>3</th>\n",
       "      <td>3</td>\n",
       "      <td>re : issue</td>\n",
       "      <td>fyi - see note below - already done .\\nstella\\...</td>\n",
       "      <td>ham</td>\n",
       "      <td>1999-12-14</td>\n",
       "    </tr>\n",
       "    <tr>\n",
       "      <th>4</th>\n",
       "      <td>4</td>\n",
       "      <td>meter 7268 nov allocation</td>\n",
       "      <td>fyi .\\n- - - - - - - - - - - - - - - - - - - -...</td>\n",
       "      <td>ham</td>\n",
       "      <td>1999-12-14</td>\n",
       "    </tr>\n",
       "    <tr>\n",
       "      <th>...</th>\n",
       "      <td>...</td>\n",
       "      <td>...</td>\n",
       "      <td>...</td>\n",
       "      <td>...</td>\n",
       "      <td>...</td>\n",
       "    </tr>\n",
       "    <tr>\n",
       "      <th>33711</th>\n",
       "      <td>33711</td>\n",
       "      <td>= ? iso - 8859 - 1 ? q ? good _ news _ c = eda...</td>\n",
       "      <td>hello , welcome to gigapharm onlinne shop .\\np...</td>\n",
       "      <td>spam</td>\n",
       "      <td>2005-07-29</td>\n",
       "    </tr>\n",
       "    <tr>\n",
       "      <th>33712</th>\n",
       "      <td>33712</td>\n",
       "      <td>all prescript medicines are on special . to be...</td>\n",
       "      <td>i got it earlier than expected and it was wrap...</td>\n",
       "      <td>spam</td>\n",
       "      <td>2005-07-29</td>\n",
       "    </tr>\n",
       "    <tr>\n",
       "      <th>33713</th>\n",
       "      <td>33713</td>\n",
       "      <td>the next generation online pharmacy .</td>\n",
       "      <td>are you ready to rock on ? let the man in you ...</td>\n",
       "      <td>spam</td>\n",
       "      <td>2005-07-30</td>\n",
       "    </tr>\n",
       "    <tr>\n",
       "      <th>33714</th>\n",
       "      <td>33714</td>\n",
       "      <td>bloow in 5 - 10 times the time</td>\n",
       "      <td>learn how to last 5 - 10 times longer in\\nbed ...</td>\n",
       "      <td>spam</td>\n",
       "      <td>2005-07-30</td>\n",
       "    </tr>\n",
       "    <tr>\n",
       "      <th>33715</th>\n",
       "      <td>33715</td>\n",
       "      <td>dear sir , i am interested in it</td>\n",
       "      <td>hi : )\\ndo you need some softwares ? i can giv...</td>\n",
       "      <td>spam</td>\n",
       "      <td>2005-07-31</td>\n",
       "    </tr>\n",
       "  </tbody>\n",
       "</table>\n",
       "<p>33716 rows × 5 columns</p>\n",
       "</div>\n",
       "      <button class=\"colab-df-convert\" onclick=\"convertToInteractive('df-f861f7f9-e951-4140-aad6-8343b0835867')\"\n",
       "              title=\"Convert this dataframe to an interactive table.\"\n",
       "              style=\"display:none;\">\n",
       "        \n",
       "  <svg xmlns=\"http://www.w3.org/2000/svg\" height=\"24px\"viewBox=\"0 0 24 24\"\n",
       "       width=\"24px\">\n",
       "    <path d=\"M0 0h24v24H0V0z\" fill=\"none\"/>\n",
       "    <path d=\"M18.56 5.44l.94 2.06.94-2.06 2.06-.94-2.06-.94-.94-2.06-.94 2.06-2.06.94zm-11 1L8.5 8.5l.94-2.06 2.06-.94-2.06-.94L8.5 2.5l-.94 2.06-2.06.94zm10 10l.94 2.06.94-2.06 2.06-.94-2.06-.94-.94-2.06-.94 2.06-2.06.94z\"/><path d=\"M17.41 7.96l-1.37-1.37c-.4-.4-.92-.59-1.43-.59-.52 0-1.04.2-1.43.59L10.3 9.45l-7.72 7.72c-.78.78-.78 2.05 0 2.83L4 21.41c.39.39.9.59 1.41.59.51 0 1.02-.2 1.41-.59l7.78-7.78 2.81-2.81c.8-.78.8-2.07 0-2.86zM5.41 20L4 18.59l7.72-7.72 1.47 1.35L5.41 20z\"/>\n",
       "  </svg>\n",
       "      </button>\n",
       "      \n",
       "  <style>\n",
       "    .colab-df-container {\n",
       "      display:flex;\n",
       "      flex-wrap:wrap;\n",
       "      gap: 12px;\n",
       "    }\n",
       "\n",
       "    .colab-df-convert {\n",
       "      background-color: #E8F0FE;\n",
       "      border: none;\n",
       "      border-radius: 50%;\n",
       "      cursor: pointer;\n",
       "      display: none;\n",
       "      fill: #1967D2;\n",
       "      height: 32px;\n",
       "      padding: 0 0 0 0;\n",
       "      width: 32px;\n",
       "    }\n",
       "\n",
       "    .colab-df-convert:hover {\n",
       "      background-color: #E2EBFA;\n",
       "      box-shadow: 0px 1px 2px rgba(60, 64, 67, 0.3), 0px 1px 3px 1px rgba(60, 64, 67, 0.15);\n",
       "      fill: #174EA6;\n",
       "    }\n",
       "\n",
       "    [theme=dark] .colab-df-convert {\n",
       "      background-color: #3B4455;\n",
       "      fill: #D2E3FC;\n",
       "    }\n",
       "\n",
       "    [theme=dark] .colab-df-convert:hover {\n",
       "      background-color: #434B5C;\n",
       "      box-shadow: 0px 1px 3px 1px rgba(0, 0, 0, 0.15);\n",
       "      filter: drop-shadow(0px 1px 2px rgba(0, 0, 0, 0.3));\n",
       "      fill: #FFFFFF;\n",
       "    }\n",
       "  </style>\n",
       "\n",
       "      <script>\n",
       "        const buttonEl =\n",
       "          document.querySelector('#df-f861f7f9-e951-4140-aad6-8343b0835867 button.colab-df-convert');\n",
       "        buttonEl.style.display =\n",
       "          google.colab.kernel.accessAllowed ? 'block' : 'none';\n",
       "\n",
       "        async function convertToInteractive(key) {\n",
       "          const element = document.querySelector('#df-f861f7f9-e951-4140-aad6-8343b0835867');\n",
       "          const dataTable =\n",
       "            await google.colab.kernel.invokeFunction('convertToInteractive',\n",
       "                                                     [key], {});\n",
       "          if (!dataTable) return;\n",
       "\n",
       "          const docLinkHtml = 'Like what you see? Visit the ' +\n",
       "            '<a target=\"_blank\" href=https://colab.research.google.com/notebooks/data_table.ipynb>data table notebook</a>'\n",
       "            + ' to learn more about interactive tables.';\n",
       "          element.innerHTML = '';\n",
       "          dataTable['output_type'] = 'display_data';\n",
       "          await google.colab.output.renderOutput(dataTable, element);\n",
       "          const docLink = document.createElement('div');\n",
       "          docLink.innerHTML = docLinkHtml;\n",
       "          element.appendChild(docLink);\n",
       "        }\n",
       "      </script>\n",
       "    </div>\n",
       "  </div>\n",
       "  "
      ],
      "text/plain": [
       "       Message ID                                            Subject  \\\n",
       "0               0                       christmas tree farm pictures   \n",
       "1               1                           vastar resources , inc .   \n",
       "2               2                       calpine daily gas nomination   \n",
       "3               3                                         re : issue   \n",
       "4               4                          meter 7268 nov allocation   \n",
       "...           ...                                                ...   \n",
       "33711       33711  = ? iso - 8859 - 1 ? q ? good _ news _ c = eda...   \n",
       "33712       33712  all prescript medicines are on special . to be...   \n",
       "33713       33713              the next generation online pharmacy .   \n",
       "33714       33714                     bloow in 5 - 10 times the time   \n",
       "33715       33715                   dear sir , i am interested in it   \n",
       "\n",
       "                                                 Message Spam/Ham        Date  \n",
       "0                                                    NaN      ham  1999-12-10  \n",
       "1      gary , production from the high island larger ...      ham  1999-12-13  \n",
       "2                 - calpine daily gas nomination 1 . doc      ham  1999-12-14  \n",
       "3      fyi - see note below - already done .\\nstella\\...      ham  1999-12-14  \n",
       "4      fyi .\\n- - - - - - - - - - - - - - - - - - - -...      ham  1999-12-14  \n",
       "...                                                  ...      ...         ...  \n",
       "33711  hello , welcome to gigapharm onlinne shop .\\np...     spam  2005-07-29  \n",
       "33712  i got it earlier than expected and it was wrap...     spam  2005-07-29  \n",
       "33713  are you ready to rock on ? let the man in you ...     spam  2005-07-30  \n",
       "33714  learn how to last 5 - 10 times longer in\\nbed ...     spam  2005-07-30  \n",
       "33715  hi : )\\ndo you need some softwares ? i can giv...     spam  2005-07-31  \n",
       "\n",
       "[33716 rows x 5 columns]"
      ]
     },
     "execution_count": 3,
     "metadata": {},
     "output_type": "execute_result"
    }
   ],
   "source": [
    "df = pd.read_csv(\"enron_spam_data.csv\")\n",
    "df"
   ]
  },
  {
   "cell_type": "markdown",
   "metadata": {
    "id": "o6yaHux1ooOP"
   },
   "source": [
    "Na pierwszy rzut oka widać parę problemów:\n",
    "- kolumny `Message ID` i `Date` są niepotrzebne\n",
    "- niektóre wiadomości mają tylko tytuł lub tylko wiadomość\n",
    "- klasa jest zapisana jako string spam/ham\n",
    "\n",
    "**Zadanie 1 (0.5 punktu)**\n",
    "\n",
    "1. Uzupełnij wartości brakujące w kolumnach `Subject` i `Message` pustymi stringami.\n",
    "2. Połącz kolumny `Subject` i `Message` w jedną kolumnę `text`, ze spacją pomiędzy nimi. Może się przydać metoda `pd.Series.str.cat()`. Wyodrębnij ją do nowej zmiennej `texts`.\n",
    "3. Zamień wartość `ham` na 0 i `spam` na 1 w kolumnie `Spam/Ham`. Wyodrębnij ją do nowej zmiennej `y`."
   ]
  },
  {
   "cell_type": "code",
   "execution_count": 11,
   "metadata": {
    "id": "xtscOhRsooOQ"
   },
   "outputs": [],
   "source": [
    "df[\"Subject\"].fillna(\"\", inplace=True)\n",
    "df[\"Message\"].fillna(\"\", inplace=True)\n",
    "texts = df[\"Subject\"].str.cat(df[\"Message\"], sep=\" \")\n",
    "y = df[\"Spam/Ham\"].replace({\"ham\": 0, \"spam\": 1})"
   ]
  },
  {
   "cell_type": "markdown",
   "metadata": {
    "id": "jTuUxlYZooOQ"
   },
   "source": [
    "Sprawdźmy jeszcze rozkład klas."
   ]
  },
  {
   "cell_type": "code",
   "execution_count": 16,
   "metadata": {
    "colab": {
     "base_uri": "https://localhost:8080/",
     "height": 452
    },
    "id": "6LyWxSpMooOR",
    "outputId": "39acf4d8-a480-421e-e8ce-928ddf7fb099"
   },
   "outputs": [
    {
     "data": {
      "image/png": "[encoded data removed]",
      "text/plain": [
       "<Figure size 640x480 with 1 Axes>"
      ]
     },
     "metadata": {},
     "output_type": "display_data"
    }
   ],
   "source": [
    "class_percentages = y.value_counts(normalize=True)\n",
    "class_percentages = round(class_percentages * 100, 2)\n",
    "\n",
    "ax = class_percentages.plot.bar(title=\"Class distribution\", rot=0)\n",
    "\n",
    "ax.bar_label(ax.containers[0])\n",
    "ax.patches[0].set_color(\"orange\")"
   ]
  },
  {
   "cell_type": "markdown",
   "metadata": {
    "id": "s5vh9K8-ooOR"
   },
   "source": [
    "Ten zbiór w całości jest o tyle specyficzny, że dodano tutaj aż tyle spamu, że jest go nawet więcej niż zwykłych emaili. W praktyce spamu jest dużo mniej, ok. 1/3 maili. Tutaj uznajemy, że klasy są zbalansowane.\n",
    "\n",
    "Typową metryką w klasyfikacji spamu jest **precyzja (precision)**, bo wyznacza ona, jak dobrzy jesteśmy w oznaczaniu spamu. Recall ma mniejsze znaczenie, bo bardziej zależy nam na minimalizacji FP - ważne maile nie mogą trafiać do spamu, natomiast jeżeli spam czasem trafi do zwykłej skrzynki (FN), to nie ma wielkiego znaczenia. Często używa się też F1-score jako metryki.\n",
    "\n",
    "W przypadku tych metryk (precision/recall/F1-score) zawsze trzeba sprawdzić co najmniej dwie z nich, żeby uniknąć przypadkiem sytuacji, że mamy np. precision bliskie 100%, a dramatycznie niski recall - to też nie byłoby akceptowalne. Trzeba też uważać podczas walidacji skrośnej - np. klasyfikator przewidujący cały czas klasę pozytywną miałby 100% recall, a cały czas negatywną 100% precision, więc typowo najwygodniej jest optymalizować F1-score.\n",
    "\n",
    "Na początek podzielimy zbiór na treningowy i testowy, a potem użyjemy klasy `CountVectorizer` ([dokumentacja](https://scikit-learn.org/stable/modules/generated/sklearn.feature_extraction.text.CountVectorizer.html)), żeby zliczyć słowa. Teraz jednak podamy `binary=True`, dzięki czemu cechy będą binarne - czy słowo wystąpiło, czy nie. Dzięki temu będziemy mogli użyć Naiwnego Bayesa z rozkładem dwumianowym - `BernoulliNB`. Wykonamy minimalny preprocessing, usuwając tylko stop words.\n",
    "\n",
    "Zauważ, że wejściem do metody `.fit()` jest lista tekstów, ze względu a domyślne `input=\"content\"`. Można by tu też wskazać listę ścieżek do plików z tekstami (`input=\"filename\"`)."
   ]
  },
  {
   "cell_type": "code",
   "execution_count": 17,
   "metadata": {
    "colab": {
     "base_uri": "https://localhost:8080/"
    },
    "id": "f-tbIAtsooOT",
    "outputId": "e4a48e8d-bbe9-40d4-d61b-32e4e93583c4",
    "scrolled": true
   },
   "outputs": [
    {
     "name": "stdout",
     "output_type": "stream",
     "text": [
      "Dictionary size: 139189\n",
      "Precision: 98.92%\n",
      "F1-score: 98.46%\n"
     ]
    }
   ],
   "source": [
    "from sklearn.feature_extraction.text import CountVectorizer\n",
    "from sklearn.metrics import f1_score, precision_score\n",
    "from sklearn.model_selection import train_test_split\n",
    "from sklearn.naive_bayes import BernoulliNB\n",
    "\n",
    "\n",
    "texts_train, texts_test, y_train, y_test = train_test_split(\n",
    "    texts,\n",
    "    y,\n",
    "    test_size=0.25,\n",
    "    random_state=0,\n",
    "    stratify=y,\n",
    ")\n",
    "\n",
    "count_vectorizer = CountVectorizer(\n",
    "    stop_words=\"english\",\n",
    "    binary=True,\n",
    ")\n",
    "count_vectorizer.fit(texts_train)\n",
    "\n",
    "X_train = count_vectorizer.transform(texts_train)\n",
    "X_test = count_vectorizer.transform(texts_test)\n",
    "\n",
    "print(f\"Dictionary size: {X_train.shape[1]}\")\n",
    "\n",
    "clf_nb_bernoulli = BernoulliNB(binarize=None)\n",
    "clf_nb_bernoulli.fit(X_train, y_train)\n",
    "\n",
    "y_pred = clf_nb_bernoulli.predict(X_test)\n",
    "precision = precision_score(y_test, y_pred)\n",
    "f1 = f1_score(y_test, y_pred)\n",
    "\n",
    "print(f\"Precision: {100 * precision:.2f}%\")\n",
    "print(f\"F1-score: {100 * f1:.2f}%\")"
   ]
  },
  {
   "cell_type": "markdown",
   "metadata": {
    "id": "b95paSZ3ooOU"
   },
   "source": [
    "Wynik jest prawie doskonały. Może uda się jeszcze wycisnąć ten ostatni procent?\n",
    "\n",
    "**Zadanie 2 (2 punkty)**\n",
    "\n",
    "1. Oblicz wystąpienia słów bez binaryzacji, otrzymując drugi zbiór cech.\n",
    "2. Wytrenuj model multinomial Naive Bayes na otrzymanym zbiorze. Sprawdź precyzję i F1-score na zbiorze testowym.\n",
    "3. Stwórz `Pipeline` z połączenia `CountVectorizer` i `MultinomialNB`. Podaj te opcje, co wcześniej do CountVectorizera.\n",
    "4. Dokonaj tuningu hiperparametrów:\n",
    "   - `ngram_range` - jakie n-gramy rozważać, sprawdź wartości `[(1, 1), (1, 2), (1, 3)]` (same słowa, + bigramy, + bigramy i trigramy)\n",
    "   - `max_df` - w jakim maksymalnie ułamku tekstów w zbiorze może wystąpić słowo, sprawdź wartości `[0.5, 0.6, 0.7, 0.8, 0.9, 1.0]`\n",
    "   - wybierz model o najwyższej precyzji\n",
    "   - użyj standardowych ustawień: 5-krotna walidacja skrośna, `n_jobs=-1`\n",
    "   - sprawdź precyzję i F1-score na zbiorze testowym dla znalezionych optymalnych hiperparametrów\n",
    "5. Wypisz optymalne hiperparametry. Sprawdź, jak zmienił się rozmiar słownika przy tych hiperparametrach.\n",
    "6. Skomentuj uzyskane hiperparametry. Jaki zakres (kontekst) uwzględniamy przy takich n-gramach? Czy uwzględniamy wszystkie słowa/bigramy/trigramy?\n",
    "\n",
    "**Uwaga:**\n",
    "1. Do metody `.fit()` możesz przekazać `texts_train` i `y_train`. Jako że `CountVectorizer` ma interfejs transformera (ma metodę `.transform()`), to Scikit-learn przekształci nim teksty do macierzy `X_train` i to ją przekaże dalej do klasyfikatora.\n",
    "2. Przy tworzeniu pipeline'u może się przydać [ta odpowiedź na StackOverflow](https://stackoverflow.com/a/64258746/9472066).\n",
    "3. Pamiętaj, że do testowania też trzeba przekazać teksty, które przekształcimy w środku pipeline'u."
   ]
  },
  {
   "cell_type": "code",
   "execution_count": 24,
   "metadata": {
    "colab": {
     "base_uri": "https://localhost:8080/"
    },
    "id": "m7HYPlDoooOV",
    "outputId": "6de16bea-3180-4b3c-bce5-5cba74574030"
   },
   "outputs": [
    {
     "name": "stdout",
     "output_type": "stream",
     "text": [
      "Precision: 98.54%\n",
      "F1-score: 98.71%\n"
     ]
    }
   ],
   "source": [
    "count_vectorizer = CountVectorizer(\n",
    "    stop_words=\"english\",\n",
    "    binary=False,\n",
    ")\n",
    "\n",
    "count_vectorizer.fit(texts_train, y_train)\n",
    "\n",
    "X_train = count_vectorizer.transform(texts_train)\n",
    "X_test = count_vectorizer.transform(texts_test)\n",
    "\n",
    "clf_nb_multinominal = MultinomialNB()\n",
    "clf_nb_multinominal.fit(X_train, y_train)\n",
    "\n",
    "y_pred = clf_nb_multinominal.predict(X_test)\n",
    "precision = precision_score(y_test, y_pred)\n",
    "f1 = f1_score(y_test, y_pred)\n",
    "\n",
    "print(f\"Precision: {100 * precision:.2f}%\")\n",
    "print(f\"F1-score: {100 * f1:.2f}%\")"
   ]
  },
  {
   "cell_type": "code",
   "execution_count": 25,
   "metadata": {
    "colab": {
     "base_uri": "https://localhost:8080/"
    },
    "id": "nM-uolOqste2",
    "outputId": "f414e266-698d-4042-9db6-0599a95e5549"
   },
   "outputs": [
    {
     "name": "stdout",
     "output_type": "stream",
     "text": [
      "Precision: 99.02%\n",
      "F1-score: 98.75%\n"
     ]
    }
   ],
   "source": [
    "pipeline = Pipeline(\n",
    "    [\n",
    "        (\n",
    "            \"vectorizer\",\n",
    "            CountVectorizer(\n",
    "                stop_words=\"english\",\n",
    "                binary=True,\n",
    "            ),\n",
    "        ),\n",
    "        (\"classifier\", MultinomialNB()),\n",
    "    ]\n",
    ")\n",
    "\n",
    "pipeline.fit(texts_train, y_train)\n",
    "\n",
    "y_pred = pipeline.predict(texts_test)\n",
    "precision = precision_score(y_test, y_pred)\n",
    "f1 = f1_score(y_test, y_pred)\n",
    "\n",
    "print(f\"Precision: {100 * precision:.2f}%\")\n",
    "print(f\"F1-score: {100 * f1:.2f}%\")"
   ]
  },
  {
   "cell_type": "code",
   "execution_count": 26,
   "metadata": {
    "colab": {
     "base_uri": "https://localhost:8080/"
    },
    "id": "r-AWqr2cs1gU",
    "outputId": "760da4cf-229c-40f0-dc1e-2a661cb2b30c"
   },
   "outputs": [
    {
     "name": "stdout",
     "output_type": "stream",
     "text": [
      "Fitting 5 folds for each of 18 candidates, totalling 90 fits\n",
      "{'vectorizer__max_df': 0.5, 'vectorizer__ngram_range': (1, 3)}\n",
      "Precision: 99.35%\n",
      "F1-score: 99.31%\n"
     ]
    }
   ],
   "source": [
    "parameters = {\n",
    "    \"vectorizer__ngram_range\": [(1, 1), (1, 2), (1, 3)],\n",
    "    \"vectorizer__max_df\": [0.5, 0.6, 0.7, 0.8, 0.9, 1.0],\n",
    "}\n",
    "\n",
    "clf = GridSearchCV(pipeline, parameters, cv=5, n_jobs=-1, verbose=1)\n",
    "clf.fit(texts_train, y_train)\n",
    "\n",
    "y_pred = clf.predict(texts_test)\n",
    "precision = precision_score(y_test, y_pred)\n",
    "f1 = f1_score(y_test, y_pred)\n",
    "\n",
    "print(clf.best_params_)\n",
    "\n",
    "print(f\"Precision: {100 * precision:.2f}%\")\n",
    "print(f\"F1-score: {100 * f1:.2f}%\")"
   ]
  },
  {
   "cell_type": "markdown",
   "metadata": {
    "id": "mr2lZOvoooOW"
   },
   "source": [
    "## Komentarz\n",
    "W kontekście niewielkiej poprawki, tuning miał znaczny wpływ na wynik."
   ]
  },
  {
   "cell_type": "markdown",
   "metadata": {
    "id": "jLkhaWKZooOW"
   },
   "source": [
    "W przypadku tak wysokiego wyniku nie ma sensu sprawdzać ważenia TF-IDF - wynik jest tak wysoki, że ostatnie ułamki procent z dużym prawdopodobieństwem wymagają bardziej złożonego modelu. Inna sprawa, czy w ogóle warto byłoby po taki sięgać.\n",
    "\n",
    "Dodatkowo warto zauważyć, że nie przeprowadziliśmy tutaj żadnej lematyzacji ani żadnego bardziej złożonego preprocessingu. W przypadku tak wysokich wyników zwyczajnie nie ma to szczególnego sensu."
   ]
  },
  {
   "cell_type": "markdown",
   "metadata": {
    "id": "pOIsy9x-ooOX"
   },
   "source": [
    "## Klasyfikacja tematu artykułu"
   ]
  },
  {
   "cell_type": "markdown",
   "metadata": {
    "id": "ZqsQ6OKDooOZ"
   },
   "source": [
    "Naszym drugim zbiorem danych będzie [AG News Classification dataset](https://www.kaggle.com/datasets/amananandrai/ag-news-classification-dataset). [Pełny zbiór AG News](http://groups.di.unipi.it/~gulli/AG_corpus_of_news_articles.html) został zebrany przez Antonio Gulliego (obecnie Director of Engineering w Google) i obejmuje 1 milion artykułów, zebranych z ponad 2000 źródeł danych w silniku ComeToMyHead. Podzbiór AG News Classification został z niego wybrany na potrzeby artykułu:\n",
    "\n",
    "> Zhang, Xiang, Junbo Zhao, and Yann LeCun. *\"Character-level convolutional networks for text classification.\"* Advances in neural information processing systems 28 (2015). [link](https://proceedings.neurips.cc/paper/2015/file/250cf8b51c773f3f8dc8b4be867a9a02-Paper.pdf)\n",
    "\n",
    "Zbiór składa się przede wszystkim z tytułów i treści artykułów z newsami, z 4 najpopularniejszych w zbiorze AG News kategorii: \"World\", \"Sports\", \"Business\", \"Sci/Tech\". Automatyczne tagowanie newsów jest ważne szczególnie dla stron-agregatorów, gdzie ręczna anotacja byłaby niemożliwa w czasie rzeczywistym.\n",
    "\n",
    "Został on wybrany tak, żeby klasy były zbalansowane zarówno w zbiorze treningowym, jak i testowym. Metryką jest celność (accuracy). Jest on już też z góry podzielony, dla odpowiedniej reprodukowalności wyników. Nie ma też wartości brakujących - ogółem jakość danych jest niesamowicie wysoka."
   ]
  },
  {
   "cell_type": "markdown",
   "metadata": {
    "id": "_-fzlLPCooOb"
   },
   "source": [
    "**Zadanie 3 (0.5 punktu)**\n",
    "\n",
    "1. Wczytaj zbiór treningowy i testowy z plików `ag_news_data_train.parquet` oraz `ag_news_data_test.parquet`.\n",
    "2. Połącz tytuł i opis, łącząc je spacją. Wyodrębnij teksty do osobnych zmiennych `texts_train` i `texts_test`.\n",
    "3. Wyodrębnij klasy do osobnych zmiennych `y_train` i `y_test`. Są one numerowane od 1 do 4 - zmapuj je zamiast tego tak, żeby były od 0 do 3.\n",
    "4. Sprawdź liczność zbioru treningowego oraz testowego."
   ]
  },
  {
   "cell_type": "code",
   "execution_count": 27,
   "metadata": {
    "colab": {
     "base_uri": "https://localhost:8080/"
    },
    "id": "2svk0CERooOf",
    "outputId": "af48585b-ff14-4114-c740-f73f8641f9cd"
   },
   "outputs": [
    {
     "name": "stdout",
     "output_type": "stream",
     "text": [
      "Size of the training set: 120000\n",
      "Size of the testing set: 7600\n"
     ]
    }
   ],
   "source": [
    "df_train = pd.read_parquet(\"ag_news_data_train.parquet\")\n",
    "df_test = pd.read_parquet(\"ag_news_data_test.parquet\")\n",
    "\n",
    "texts_train = (df_train[\"Title\"] + \" \" + df_train[\"Description\"]).values\n",
    "texts_test = (df_test[\"Title\"] + \" \" + df_test[\"Description\"]).values\n",
    "\n",
    "y_train = df_train[\"Class Index\"].values\n",
    "y_test = df_test[\"Class Index\"].values\n",
    "\n",
    "print(\"Size of the training set:\", len(texts_train))\n",
    "print(\"Size of the testing set:\", len(texts_test))"
   ]
  },
  {
   "cell_type": "markdown",
   "metadata": {
    "id": "iMcx1kQXooOf"
   },
   "source": [
    "Teraz możemy się zająć klasyfikacją tekstu. Autorzy w artykule używają i zwykłego zliczania słów, i wersji z TF-IDF. Ograniczają też rozmiar słownika do maksymalnie 500000 słów, co jest też dość częstą praktyką - nieograniczone słowniki mogą łatwo eksplodować rozmiarem na bardzo dużych zbiorach danych, a większość z tych cech jest wtedy raczej kiepska.\n",
    "\n",
    "Autorzy w artykule używają regresji logistycznej, dlatego skalują wartości cech TF-IDF do zakresu [0, 1]. My musimy sprecyzować `norm=None`, żeby nie zastosować żadnej dodatkowej normalizacji - Naive Bayes nie zakłada żadnej jako model."
   ]
  },
  {
   "cell_type": "markdown",
   "metadata": {
    "id": "lIAhBhuQooOg"
   },
   "source": [
    "**Zadanie 4 (2 punkty)**\n",
    "\n",
    "1. Przygotuj pipeline'y (pamiętaj o ograniczeniu słownika, czyli maksymalnej liczby cech, do 500000):\n",
    "   - `CountVectorizer` z binaryzacją cech + `BernoulliNB`\n",
    "   - `CountVectorizer` bez binaryzacji cech + `MultinomialNB`\n",
    "   - `TfidfVectorizer` + `MultinomialNB` (pamiętaj o `norm=None`\n",
    "2. Wytrenuj modele i przetestuj je, podając celność (accuracy) na zbiorze testowym.\n",
    "3. Skomentuj, który model poradził sobie najlepiej. W artykule regresja logistyczna osiąga celność 89,64% w wersji z TF-IDF. Czy nasz Naive Bayes jest lepszy? Czy z rezultatów wynika, że do klasyfikacji wystarczy samo występowanie / nie występowanie określonych słów?"
   ]
  },
  {
   "cell_type": "code",
   "execution_count": 29,
   "metadata": {
    "id": "s0U522BBooOg"
   },
   "outputs": [],
   "source": [
    "max_no_features = 50000\n",
    "\n",
    "count_binary_nb_pipeline = Pipeline(\n",
    "    [\n",
    "        (\"vectorizer\", CountVectorizer(binary=True, max_features=max_no_features)),\n",
    "        (\"classifier\", BernoulliNB(binarize=None)),\n",
    "    ]\n",
    ")"
   ]
  },
  {
   "cell_type": "code",
   "execution_count": 30,
   "metadata": {
    "id": "xqeKXMgiMLJm"
   },
   "outputs": [],
   "source": [
    "count_multinomial_nb_pipeline = Pipeline(\n",
    "    [\n",
    "        (\"vectorizer\", CountVectorizer(binary=False, max_features=max_no_features)),\n",
    "        (\"classifier\", MultinomialNB()),\n",
    "    ]\n",
    ")"
   ]
  },
  {
   "cell_type": "code",
   "execution_count": 31,
   "metadata": {
    "id": "h5Cdk0b_MQia"
   },
   "outputs": [],
   "source": [
    "tfidf_multinomial_nb_pipeline = Pipeline(\n",
    "    [\n",
    "        (\"vectorizer\", TfidfVectorizer(norm=None, max_features=max_no_features)),\n",
    "        (\"classifier\", MultinomialNB()),\n",
    "    ]\n",
    ")"
   ]
  },
  {
   "cell_type": "code",
   "execution_count": 32,
   "metadata": {
    "colab": {
     "base_uri": "https://localhost:8080/"
    },
    "id": "KPikGH7FMUrO",
    "outputId": "af7f0f45-427d-40a5-b809-c3822b05fada"
   },
   "outputs": [
    {
     "name": "stdout",
     "output_type": "stream",
     "text": [
      "Accuracy with binary CountVectorizer and BernoulliNB: 0.8953947368421052\n"
     ]
    }
   ],
   "source": [
    "count_binary_nb_pipeline.fit(texts_train, y_train)\n",
    "y_pred = count_binary_nb_pipeline.predict(texts_test)\n",
    "accuracy = accuracy_score(y_test, y_pred)\n",
    "print(\"Accuracy with binary CountVectorizer and BernoulliNB:\", accuracy)"
   ]
  },
  {
   "cell_type": "code",
   "execution_count": 33,
   "metadata": {
    "colab": {
     "base_uri": "https://localhost:8080/"
    },
    "id": "w7UkSVlHMXYX",
    "outputId": "2d527ba1-441c-4a71-e5b9-48f55b5819d9"
   },
   "outputs": [
    {
     "name": "stdout",
     "output_type": "stream",
     "text": [
      "Accuracy with regular CountVectorizer and MultinomialNB: 0.9006578947368421\n"
     ]
    }
   ],
   "source": [
    "count_multinomial_nb_pipeline.fit(texts_train, y_train)\n",
    "y_pred = count_multinomial_nb_pipeline.predict(texts_test)\n",
    "accuracy = accuracy_score(y_test, y_pred)\n",
    "print(\"Accuracy with regular CountVectorizer and MultinomialNB:\", accuracy)"
   ]
  },
  {
   "cell_type": "code",
   "execution_count": 34,
   "metadata": {
    "colab": {
     "base_uri": "https://localhost:8080/"
    },
    "id": "J9VjmxVtMX_N",
    "outputId": "146cf0fa-ba45-4b20-d34a-1a037e1354aa"
   },
   "outputs": [
    {
     "name": "stdout",
     "output_type": "stream",
     "text": [
      "Accuracy with TfidfVectorizer and MultinomialNB: 0.9038157894736842\n"
     ]
    }
   ],
   "source": [
    "tfidf_multinomial_nb_pipeline.fit(texts_train, y_train)\n",
    "y_pred = tfidf_multinomial_nb_pipeline.predict(texts_test)\n",
    "accuracy = accuracy_score(y_test, y_pred)\n",
    "print(\"Accuracy with TfidfVectorizer and MultinomialNB:\", accuracy)"
   ]
  },
  {
   "cell_type": "markdown",
   "metadata": {
    "id": "3DH4LqgfooOg"
   },
   "source": [
    "## Komentarz\n",
    "\n",
    "Najlepszą celność na zbiorze testowym osiągnął model z TfidfVectorizer i MultinomialNB, uzyskując wynik 90,38%. Można jednak zauważyć, że wynik ten jest nieznacznie lepszy od wyniku regresji logistycznej z TF-IDF w artykule, który wyniósł 89,64%. Oba modele radzą sobie porównywalnie dobrze w zadaniu klasyfikacji tekstu.\n",
    "\n",
    "Należy pamiętać, że do klasyfikacji tekstu nie wystarczy jedynie uwzględnienie występowania lub nie występowania poszczególnych słów. Modele, które zostały wykorzystane w tym zadaniu, opierają się na probabilistycznych modelach językowych, a nie tylko na prostym podejściu \"bag of words\". Te modele uwzględniają częstotliwość występowania poszczególnych słów w tekście oraz ich wzajemne zależności, co wpływa na jakość klasyfikacji. W związku z tym, wyniki pokazują, że modele te radzą sobie dobrze w zadaniu klasyfikacji tekstu, ale nie można jednoznacznie stwierdzić, że do osiągnięcia dobrego wyniku wystarczy jedynie prosty model \"bag of words\"."
   ]
  },
  {
   "cell_type": "markdown",
   "metadata": {
    "id": "YWw44eDqooOh"
   },
   "source": [
    "Wyniki są niezłe, natomiast według artykułu użycie n-gramów daje jeszcze lepsze wyniki. Tam dla regresji logistycznej wybrano n-gramy z zakresu od 1 do 5, z maksymalnym rozmiarem słownika 500000. Nie mamy jednak gwarancji, że są to wartości optymalne dla naszego Naive Bayesa, plus wyżej niż 3-gramy rzadko coś daje.\n",
    "\n",
    "Nasz zbiór treningowy jest bardzo duży, więc nie ma potrzeby używania walidacji skrośnej - zwykły holdout da dość dobre wyniki. Jeżeli mamy gotowy zbiór treningowy, to najprościej w tym celu użyć `ShuffleSplit` z 1 losowaniem zbioru walidacyjnego.\n",
    "\n",
    "**Zadanie 5 (1 punkt)**\n",
    "\n",
    "1. Dokonaj tuningu pipeline'u TF-IDF + multinomial Naive Bayes:\n",
    "   - `ngram_range` - zakres wartości `[(1, 1), (1, 2), (1, 3)]`\n",
    "   - `max_features` - zakres wartości `[500000, None]`\n",
    "   - maksymalna liczba cech (rozmiar słownika) to 500000\n",
    "   - użyj jednego zbioru walidacyjnego, stanowiącego 25% danych treningowych, z pomocą `ShuffleSplit`; pamiętaj o `random_state=0`\n",
    "   - wybierz model o najwyższym accuracy\n",
    "   - ustaw `n_jobs=1`, bo inaczej może ci łatwo zabraknąć pamięci\n",
    "   - pamiętaj o `random_state=0`\n",
    "2. Sprawdź wyniki na zbiorze testowym dla najlepszych hiperparametrów. Czy udało się uzyskać wynik lepszy od tych z artykułu dla n-gramów (patrz tabela na stronie 6 artykułu)?"
   ]
  },
  {
   "cell_type": "code",
   "execution_count": 37,
   "metadata": {
    "colab": {
     "base_uri": "https://localhost:8080/"
    },
    "id": "ywZkOZhJooOh",
    "outputId": "27a728b7-9c50-45a8-d201-779b5787bdba"
   },
   "outputs": [
    {
     "name": "stdout",
     "output_type": "stream",
     "text": [
      "Accuracy: 0.9123684210526316\n"
     ]
    }
   ],
   "source": [
    "tfidf_multinomial_nb_pipeline = Pipeline(\n",
    "    [\n",
    "        (\"vectorizer\", TfidfVectorizer(norm=None, max_features=500000)),\n",
    "        (\"classifier\", MultinomialNB()),\n",
    "    ]\n",
    ")\n",
    "\n",
    "params = {\n",
    "    \"vectorizer__ngram_range\": [(1, 1), (1, 2), (1, 3)],\n",
    "    \"vectorizer__max_features\": [500000, None],\n",
    "}\n",
    "\n",
    "cv = ShuffleSplit(n_splits=1, test_size=0.25, random_state=0)\n",
    "grid = GridSearchCV(\n",
    "    tfidf_multinomial_nb_pipeline, params, cv=cv, n_jobs=1, scoring=\"accuracy\"\n",
    ")\n",
    "\n",
    "grid.fit(texts_train, y_train)\n",
    "\n",
    "best_model = grid.best_estimator_\n",
    "\n",
    "accuracy = best_model.score(texts_test, y_test)\n",
    "\n",
    "print(\"Accuracy:\", accuracy)"
   ]
  },
  {
   "cell_type": "code",
   "execution_count": 38,
   "metadata": {
    "colab": {
     "base_uri": "https://localhost:8080/"
    },
    "id": "6AhQQa9COVWH",
    "outputId": "6dddf1a5-5e8d-4012-8697-38d5f49b553a"
   },
   "outputs": [
    {
     "name": "stdout",
     "output_type": "stream",
     "text": [
      "Error: 0.13736842105263158\n"
     ]
    }
   ],
   "source": [
    "predicted = best_model.predict(texts_test)\n",
    "error = mean_absolute_error(y_test, predicted)\n",
    "\n",
    "print(\"Error:\", error)"
   ]
  },
  {
   "cell_type": "markdown",
   "metadata": {
    "id": "mHVebRtrooOi"
   },
   "source": [
    "## Komentarz\n",
    "\n",
    "Model osiągnął wynik gorszy niż ten przedstawiony w artykule."
   ]
  },
  {
   "cell_type": "markdown",
   "metadata": {
    "id": "JFJCt6WjooOi"
   },
   "source": [
    "## Dane z ekspresji genów"
   ]
  },
  {
   "cell_type": "markdown",
   "metadata": {
    "id": "lg0P7pHuooOj"
   },
   "source": [
    "Naszym ostatnim zbiorem będzie [GSE2034](https://www.ncbi.nlm.nih.gov/geo/query/acc.cgi?acc=gse2034) ([Mendeley Data](https://data.mendeley.com/datasets/v3cc2p38hb/1), [Kaggle](https://www.kaggle.com/datasets/saurabhshahane/gene-expression-profiles-of-breast-cancer)). Jest to zbiór ekspresji genów z sekwencjonowania RNA, zebrany na potrzeby artykułu:\n",
    "\n",
    "> Wang, Yixin, et al. *\"Gene-expression profiles to predict distant metastasis of lymph-node-negative primary breast cancer.\"* The Lancet 365.9460 (2005): 671-679. [link](https://www.ihes.fr/~zinovyev/princmanif2006/Wang_lancet_2005.pdf)\n",
    "\n",
    "Zbiór ten został stworzony z danych pochodzących z sekwencjonowania RNA 286 pacjentek chorych na nowotwór piersi bez przerzutów do węzłów chłonnych ([lymph node-negative breast cancer](https://www.komen.org/breast-cancer/diagnosis/stages-staging/lymph-node-status/)). Celem było sprawdzenie, czy na podstawie analizy genetycznej można przewidzieć, czy nastąpi odległa metastaza nowotworu ([distant metastatis](https://training.seer.cancer.gov/staging/systems/summary/distant.html)), czyli przerzuty nowotworu przez krew do odległych części ciała. Takie przypadki uznaje się za porażkę w leczeniu nowotworu. Według źródeł z artykułu, ok. 85-90% pacjentek jest poddawane dodatkowej terapii (np. chemoterapii) po operacji usunięcia nowotworu, natomiast personalizowana medycyna oparta o analizę genetyczną pozwoliłaby nie tylko oszczędzić tego leczenia (z ciężkimi skutkami ubocznymi) niektórym pacjentkom, ale też skupić się bardziej na innych, z większym ryzykiem przerzutów.\n",
    "\n",
    "Cechy w tym zbiorze to poziom ekspresji 12634 genów w sekwencjonowanym RNA. Ekspresja genu ([gene expression](https://en.wikipedia.org/wiki/Gene_expression)) to proces tłumaczenia informacji genetycznej z genu (sekwencji DNA) do białek (przez kodujące RNA) lub innych funkcji (przez niekodujące RNA). Im silniejsza ekspresja genu, tym więcej materiału (zwykle białek / protein) produkuje dany gen w danym organizmie. Jest to najmniejszy molekularnie poziom, na którym można zaobserwować fenotyp, czyli cechy stworzone na podstawie genotypu.\n",
    "\n",
    "Oprogramowanie do analizy ekspresji genów dokonuje od razu standaryzacji poziomu ekspresji każdego z genów. W związku dla każdego z genów mamy jego Z-score, czyli wartość cechy oznacza, o ile odchyleń standardowych jego wartość różni się od średniej ekspresji tego genu wśród wszystkich próbek. Jest to wygodne do analiz biomedycznych, bo pozwala bezpośrednio porównywać ze sobą pacjentów. Przy okazji jest też wygodne do uczenia maszynowego.\n",
    "\n",
    "Zmienną do przewidywania jest tutaj, czy nastąpi nawrót nowotworu i przerzuty w ciągu 5 lat od operacji (to podczas niej pobiera się tkankę nowotworową do badań genetycznych). Warto zwrócić uwagę, że mamy tutaj 286 pacjentek, a ponad 12 tysięcy cech, a zatem $n >> d$.\n",
    "\n",
    "W przypadku danych medycznych typowo optymalizowaną metryką jest **czułość (recall)**, ponieważ zależy nam na tym, żeby minimalizować przypadki FN. Oznaczają one brak wykrycia choroby, co ma tragiczne skutki, w przeciwieństwie do FP, które może mieć co prawda negatywne skutki (np. dodatkowe badania, niepotrzebne leczenie ze skutkami ubocznymi), ale typowo mniejsze. Oczywiście dalej trzeba sprawdzić F1-score."
   ]
  },
  {
   "cell_type": "markdown",
   "metadata": {
    "id": "1_2v6sXsooOk"
   },
   "source": [
    "**Zadanie 6 (0.5 punktu)**\n",
    "\n",
    "1. Wczytaj dane z plików `GSE2034-Normal.tsv` oraz `GSE2034-Tumor.tsv`. Są one w formacie TSV, czyli CSV, ale z tabami (`\\t`) zamiast przecinków.\n",
    "2. Usuń kolumnę `Hybridization REF` z obu ramek.\n",
    "3. Obecnie kolumny to pacjentki, a wiersze to ekspresje genów. Dokonaj transpozycji (transpose) DataFrame'ów tak, aby kolumnami były cechy.\n",
    "4. Połącz oba DataFrame'y w jedną tablicę Numpy'a `X`, reprezentującą cały zbiór danych.\n",
    "5. Stwórz wektor klas `y`, mający wartości 0 dla wierszy z pliku `Normal` i wartość 1 dla wierszy z pliku `Tumor`.\n",
    "6. Narysuj wykres częstości klas."
   ]
  },
  {
   "cell_type": "code",
   "execution_count": 41,
   "metadata": {
    "colab": {
     "base_uri": "https://localhost:8080/",
     "height": 430
    },
    "id": "TTmpoi1looOk",
    "outputId": "d49e25ae-0fa7-4cef-ba4a-599a686f5a1e"
   },
   "outputs": [
    {
     "data": {
      "image/png": "[encoded data removed]",
      "text/plain": [
       "<Figure size 640x480 with 1 Axes>"
      ]
     },
     "metadata": {},
     "output_type": "display_data"
    }
   ],
   "source": [
    "normal = pd.read_csv(\"GSE2034-Normal.tsv\", sep=\"\\t\")\n",
    "tumor = pd.read_csv(\"GSE2034-Tumor.tsv\", sep=\"\\t\")\n",
    "\n",
    "normal = normal.drop(\"Hybridization REF\", axis=1)\n",
    "tumor = tumor.drop(\"Hybridization REF\", axis=1)\n",
    "\n",
    "normal = normal.T\n",
    "tumor = tumor.T\n",
    "\n",
    "X = np.concatenate([normal, tumor])\n",
    "y = np.zeros(len(normal))\n",
    "y = np.concatenate([y, np.ones(len(tumor))])\n",
    "\n",
    "counts = np.bincount(y.astype(int))\n",
    "fig, ax = plt.subplots()\n",
    "ax.bar([0, 1], counts / len(y), color=[\"orange\", \"dodgerblue\"])\n",
    "ax.set_xticks([0, 1])\n",
    "ax.set_xticklabels([\"0\", \"1\"])\n",
    "ax.set_ylabel(\"Frequency\")\n",
    "plt.show()"
   ]
  },
  {
   "cell_type": "markdown",
   "metadata": {
    "id": "FlY0x5ICooOk"
   },
   "source": [
    "Jak widać, mamy więcej przykładów pozytywnych niż negatywnych. Jest to dość częste w zbiorach medycznych, które są często tworzone bardziej do analizy przypadków chorobowych, niż do tworzenia modeli predykcyjnych. Oczywiście to, że klasy pozytywnej jest więcej, wcale nie oznacza, że klasyfikacja musi być prostsza.\n",
    "\n",
    "Jako że nasze cechy są ciągłe, to musimy użyć klasyfikatora Naiwnego Bayesa z założeniem rozkładu normalnego do klasyfikacji. Dokonamy podziału na zbiór treningowy i testowy w proporcjach 67%-33%."
   ]
  },
  {
   "cell_type": "code",
   "execution_count": 42,
   "metadata": {
    "colab": {
     "base_uri": "https://localhost:8080/"
    },
    "id": "8f_KZaKWooOl",
    "outputId": "507c3ef1-6207-4959-ddc9-358d80c5cbcf"
   },
   "outputs": [
    {
     "name": "stdout",
     "output_type": "stream",
     "text": [
      "Recall: 64.41%\n",
      "F1-score: 68.47%\n"
     ]
    }
   ],
   "source": [
    "from sklearn.metrics import recall_score\n",
    "from sklearn.naive_bayes import GaussianNB\n",
    "\n",
    "\n",
    "X_train, X_test, y_train, y_test = train_test_split(\n",
    "    X,\n",
    "    y,\n",
    "    test_size=0.33,\n",
    "    random_state=0,\n",
    "    stratify=y,\n",
    ")\n",
    "\n",
    "clf_nb_gaussian = GaussianNB()\n",
    "clf_nb_gaussian.fit(X_train, y_train)\n",
    "\n",
    "y_pred = clf_nb_gaussian.predict(X_test)\n",
    "recall = recall_score(y_test, y_pred)\n",
    "f1 = f1_score(y_test, y_pred)\n",
    "\n",
    "print(f\"Recall: {100 * recall:.2f}%\")\n",
    "print(f\"F1-score: {100 * f1:.2f}%\")"
   ]
  },
  {
   "cell_type": "markdown",
   "metadata": {
    "id": "owykYT9RooOm"
   },
   "source": [
    "Wyniki są co najwyżej mocno przeciętne. Można powiedzieć, że mamy tu underfitting, ale przy tej ilości danych (zbiór treningowy ma ok. 200 próbek) użycie dużo pojemniejszego modelu mogłoby się łatwo skończyć się mocnym overfittingiem.\n",
    "\n",
    "Może to nasze założenia co do normalności klas są błędne? Sprawdźmy to dla kilku pierwszych cech."
   ]
  },
  {
   "cell_type": "code",
   "execution_count": 43,
   "metadata": {
    "colab": {
     "base_uri": "https://localhost:8080/",
     "height": 487
    },
    "id": "VvzjCbhCooOn",
    "outputId": "1294d28a-0c5e-4c0e-b870-84b900559f87"
   },
   "outputs": [
    {
     "data": {
      "image/png": "[encoded data removed]",
      "text/plain": [
       "<Figure size 640x480 with 9 Axes>"
      ]
     },
     "metadata": {},
     "output_type": "display_data"
    }
   ],
   "source": [
    "pd.DataFrame(X[:, :9]).hist()\n",
    "plt.tight_layout()\n",
    "plt.show()"
   ]
  },
  {
   "cell_type": "markdown",
   "metadata": {
    "id": "q1kM5KcSooOn"
   },
   "source": [
    "O ile niektóre rozkłady nieco przypominają normalny, co tłumaczy nie najgorszy wynik klasyfikatora, to jednak daleko do pełnej normalności. Empiryczne oszacowanie rozkładu za pomocą Kernel Density Estimation (KDE) powinno poprawić wynik w takiej sytuacji.\n",
    "\n",
    "Scikit-learn nie ma gotowego Naive Bayesa z KDE, ale łatwo go zaimplementować. W tym celu trzeba stworzyć własny klasyfikator. Robi się w skrócie to tak ([dokładny tutorial](https://scikit-learn.org/stable/developers/develop.html)):\n",
    "1. Tworzymy klasę dziedziczącą po `BaseEstimator`, `ClassifierMixin` oraz ewentualnie innych klasach, które nas interesują.\n",
    "2. Wszystkie hiperparametry są argumentami konstruktora. Każdy jest przypisywany, bez żadnych zmian, do atrybutu o dokładnie tej samej nazwie.\n",
    "3. Implementujemy metody `.fit(X, y)`,`.predict(X)`, oraz ewentualnie `.predict_proba(X)`. Metoda `.fit()` musi zwracać `self`.\n",
    "4. Na początku metody `.fit(X, y)` używamy funkcji `check_X_y()`, żeby dokonać podstawowej walidacji wejścia. Na początku metody `.predict(X)` analogicznie używamy funkcji `check_array()` na wejściu `X`.\n",
    "\n",
    "Taki interfejs gwarantuje, że nasz własny model będzie mógł być używany np. w `GridSearchCV`.\n",
    "\n",
    "**Zadanie 7 (2.5 punktu)**\n",
    "\n",
    "Uzupełnij implementację klasy `KernelDensityEstimationNB`, realizującej algorytm KDE Naive Bayes.\n",
    "\n",
    "1. Zakładamy, że klasy są liczbami całkowitymi, z wartościami `[0, 1, ..., liczba klas - 1]`.\n",
    "2. Rozkład a priori (prior) dla każdej klasy to proporcja tej klasy w zbiorze treningowym. Naive Bayes używa log-sum-exp trick, więc można od razu obliczyć logarytm i zapisać log-prior.\n",
    "3. Każda klasa ma swój model Kernel Density Estimation, wytrenowany na przykładach z tej klasy.\n",
    "4. Podczas predykcji trzeba obliczyć, dla każdej z nowych próbek do zaklasyfikowania, jej wiarygodność (likelihood) dla każdej z klas. Służy do tego metoda `.score_samples()`. Ze względu na log-sum-exp trick ponownie oblicza się logarytm, otrzymując log-likelihood.\n",
    "5. Dla każdego z przykładów, dla każdej z klas, sumujemy log-prior i log-likelihood, otrzymując wartość rozkładu a posteriori (posterior). Zgodnie z zasadą maximum a posteriori (MAP), wybieramy klasę o najwyższej z tych wartości. Może tu się przydać `np.argmax()`."
   ]
  },
  {
   "cell_type": "code",
   "execution_count": 46,
   "metadata": {
    "id": "zu5L8ExIooOn"
   },
   "outputs": [],
   "source": [
    "from sklearn.base import BaseEstimator, ClassifierMixin\n",
    "from sklearn.neighbors import KernelDensity\n",
    "from sklearn.utils import check_array, check_X_y\n",
    "\n",
    "\n",
    "class KernelDensityEstimationNB(BaseEstimator, ClassifierMixin):\n",
    "    def __init__(self, kernel: str = \"gaussian\", bandwidth: float = 1.0):\n",
    "        self.kernel = kernel\n",
    "        self.bandwidth = bandwidth\n",
    "\n",
    "    def fit(self, X, y):\n",
    "        X = np.array(X)\n",
    "        y = np.array(y)\n",
    "        X, y = check_X_y(X, y)\n",
    "\n",
    "        assert y.min() == 0\n",
    "        assert y.max() == len(np.unique(y)) - 1\n",
    "\n",
    "        self.classes_ = np.unique(y)\n",
    "\n",
    "        self.log_priors_ = np.empty(len(self.classes_))\n",
    "\n",
    "        self.kde_models_ = []\n",
    "\n",
    "        for class_idx in self.classes_:\n",
    "            X_class = X[y == class_idx]\n",
    "\n",
    "            self.log_priors_[class_idx.astype(int)] = np.log(\n",
    "                X_class.shape[0] / X.shape[0]\n",
    "            )\n",
    "\n",
    "            kde = KernelDensity(kernel=self.kernel, bandwidth=self.bandwidth).fit(\n",
    "                X_class\n",
    "            )\n",
    "\n",
    "            self.kde_models_.append(kde)\n",
    "\n",
    "        return self\n",
    "\n",
    "    def predict(self, X):\n",
    "        X = np.array(X)\n",
    "        X = check_array(X)\n",
    "\n",
    "        log_likelihoods = np.zeros((X.shape[0], len(self.classes_)))\n",
    "\n",
    "        posteriors = self.log_priors_ + log_likelihoods\n",
    "\n",
    "        map_class = np.argmax(posteriors, axis=1)\n",
    "\n",
    "        return map_class"
   ]
  },
  {
   "cell_type": "code",
   "execution_count": 47,
   "metadata": {
    "colab": {
     "base_uri": "https://localhost:8080/"
    },
    "id": "SCWq4WoXooOx",
    "outputId": "45a21eee-e25f-4c27-915b-f4f96cf524a3"
   },
   "outputs": [
    {
     "name": "stdout",
     "output_type": "stream",
     "text": [
      "Recall: 100.00%\n",
      "F1-score: 76.62%\n"
     ]
    }
   ],
   "source": [
    "clf_nb_kde = KernelDensityEstimationNB()\n",
    "clf_nb_kde.fit(X_train, y_train)\n",
    "\n",
    "y_pred = clf_nb_kde.predict(X_test)\n",
    "recall = recall_score(y_test, y_pred)\n",
    "f1 = f1_score(y_test, y_pred)\n",
    "\n",
    "print(f\"Recall: {100 * recall:.2f}%\")\n",
    "print(f\"F1-score: {100 * f1:.2f}%\")"
   ]
  },
  {
   "cell_type": "markdown",
   "metadata": {
    "id": "nODASQtlooOx"
   },
   "source": [
    "W przypadku czułości (recall) jest już zdecydowanie lepiej! F1-score poprawił się, ale tylko trochę - precyzja mogłaby być lepsza. Ale KDE jest dość czułe na dobór szerokości (bandwidth) kernela, więc tuning hiperparametrów powinien tutaj pomóc.\n",
    "\n",
    "Ciekawą opcją dla szerokości kernela jest **Silverman's rule of thumb**. Jest to prosty wzór na szerokość kernela przy założeniu, że rozkład jest unimodalny. Scikit-learn wspiera tę opcję przez przekazanie wartości `bandwidth=\"silverman\"`. Wzór dla wielu cech ([Wikipedia](https://en.wikipedia.org/wiki/Multivariate_kernel_density_estimation#Rule_of_thumb)):\n",
    "\n",
    "$$\n",
    "h_{silverman} = \\left(\\frac{4}{d+2}\\right) n^{\\frac{-1}{d+4}} \\sigma\n",
    "$$\n",
    "\n",
    "Gdzie $\\sigma$ to wektor odchyleń standardowych cech, $n$ to liczba próbek, a $d$ to liczba wymiarów.\n",
    "\n",
    "Wadą implementacji w Scikit-learn jest to, że nie uwzględnia on odchyleń $\\sigma$, więc bandwidth jest wspólny dla wszystkich cech. Jeżeli jednak są one w podobnej skali (tak jak w tym zbiorze), to nie stanowi to dużego problemu. No i w razie potrzeby można zawsze ustandardyzować dane.\n",
    "\n",
    "Dla zainteresowanych - tuning kernel bandwidth to mocno badane przez matematyków zagadnienie, i istnieje do niego szereg rozbudowanych metod statystycznych. [Ten tutorial](https://aakinshin.net/posts/kde-bw/) jest chyba najlepszym i najbardziej czytelnym, a przy tym ma potężny przegląd literatury."
   ]
  },
  {
   "cell_type": "code",
   "execution_count": 48,
   "metadata": {
    "colab": {
     "base_uri": "https://localhost:8080/"
    },
    "id": "xJuzqZTRooOy",
    "outputId": "74df9655-c8c3-4607-d079-f0096d9de94f"
   },
   "outputs": [
    {
     "name": "stdout",
     "output_type": "stream",
     "text": [
      "Recall: 100.00%\n",
      "F1-score: 76.62%\n",
      "Class bandwidths: 0.9990, 0.9990\n"
     ]
    }
   ],
   "source": [
    "clf_nb_kde = KernelDensityEstimationNB(bandwidth=\"silverman\")\n",
    "clf_nb_kde.fit(X_train, y_train)\n",
    "\n",
    "y_pred = clf_nb_kde.predict(X_test)\n",
    "recall = recall_score(y_test, y_pred)\n",
    "f1 = f1_score(y_test, y_pred)\n",
    "\n",
    "print(f\"Recall: {100 * recall:.2f}%\")\n",
    "print(f\"F1-score: {100 * f1:.2f}%\")\n",
    "\n",
    "class_0_bandwidth = clf_nb_kde.kde_models_[0].bandwidth_\n",
    "class_1_bandwidth = clf_nb_kde.kde_models_[1].bandwidth_\n",
    "\n",
    "print(f\"Class bandwidths: {class_0_bandwidth:.4f}, {class_1_bandwidth:.4f}\")"
   ]
  },
  {
   "cell_type": "markdown",
   "metadata": {
    "id": "-1tU1V_-ooOz"
   },
   "source": [
    "Wynik się poprawił, a ilość pracy była minimalna. Jeżeli nasze rozkłady cech wyglądają na unimodalne i podobne do normalnego, to zasada Silvermana może w prosty i szybki sposób ulepszyć nasze wyniki.\n",
    "\n",
    "Dodatkowo widać, że wyestymowany bandwidth jest bardzo bliski 1 (korekta jest zasadniczo kosmetyczna), więc w tym obszarze można ewentualnie szukać lepszych wartości hiperparametru.\n",
    "\n",
    "**Zadanie 8 (1 punkt)**\n",
    "\n",
    "1. Dokonaj tuningu hiperparametru `bandwidth`:\n",
    "   - sprawdź 100 wartości na siatce liniowej w zakresie od 0.75 do 1.25\n",
    "   - użyj kernela gaussowskiego\n",
    "   - wybierz model o najwyższym F1-score\n",
    "   - użyj standardowych ustawień: 5-krotna walidacja skrośna, `random_state=0`, `n_jobs=-1`\n",
    "2. Wypisz znalezioną optymalną wartość szerokości kernela.\n",
    "3. Sprawdź czułość (recall) i F1-score na zbiorze testowym dla znalezionych optymalnych hiperparametrów.\n",
    "4. Czy optymalna wartość kernela była większa, czy mniejsza od domyślnego 1? Czy takie oszacowanie KDE ma bardziej gładki kształt (większy bias), czy bardziej zróżnicowany (większa wariancja)?\n",
    "4. Czy udało się poprawić wynik? Czy takie wartości metryk uważasz za zadowalające?"
   ]
  },
  {
   "cell_type": "code",
   "execution_count": 49,
   "metadata": {
    "colab": {
     "base_uri": "https://localhost:8080/"
    },
    "id": "d0cjLTPOooOz",
    "outputId": "767fca39-f6d2-4383-cef7-8eb09badb572",
    "scrolled": true
   },
   "outputs": [
    {
     "name": "stdout",
     "output_type": "stream",
     "text": [
      "Recall: 100.00%\n",
      "F1-score: 76.62%\n",
      "best params: {'bandwidth': 0.75}\n",
      "Class bandwidths: 0.7500, 0.7500\n"
     ]
    }
   ],
   "source": [
    "clf_nb_kde = KernelDensityEstimationNB()\n",
    "\n",
    "params = {\"bandwidth\": np.linspace(0.75, 1.25, 100)}\n",
    "\n",
    "grid = GridSearchCV(clf_nb_kde, params, cv=5, scoring=\"f1\", n_jobs=-1)\n",
    "\n",
    "grid.fit(X_train, y_train)\n",
    "\n",
    "y_pred = grid.predict(X_test)\n",
    "recall = recall_score(y_test, y_pred)\n",
    "f1 = f1_score(y_test, y_pred)\n",
    "best_model = grid.best_estimator_\n",
    "class_0_bandwidth = best_model.kde_models_[0].bandwidth_\n",
    "class_1_bandwidth = best_model.kde_models_[1].bandwidth_\n",
    "\n",
    "print(f\"Recall: {100 * recall:.2f}%\")\n",
    "print(f\"F1-score: {100 * f1:.2f}%\")\n",
    "print(f\"Best Params: {grid.best_params_}\")\n",
    "print(f\"Class bandwidths: {class_0_bandwidth:.4f}, {class_1_bandwidth:.4f}\")"
   ]
  },
  {
   "cell_type": "markdown",
   "metadata": {
    "id": "yo1SVjhaooO0"
   },
   "source": [
    "## Komentarz\n",
    "\n",
    "Niestety, ani recall, ani F1-score się nie poprawiły\n",
    "\n",
    "W nowych wynikach optymalna wartość kernela to 0.75, czyli mniejsza niż domyślna wartość 1. Takie oszacowanie KDE ma bardziej zróżnicowany kształt (większa wariancja), co może wpłynąć na wyniki predykcji.\n",
    "\n",
    "To zależy od kontekstu zastosowania modelu i od wymagań dotyczących dokładności predykcji. W tym przypadku, F1-score wynoszący 76.62% może być satysfakcjonujący, ale należy brać pod uwagę również inne czynniki, takie jak koszty błędów predykcji."
   ]
  },
  {
   "cell_type": "markdown",
   "metadata": {
    "id": "eXsSGwVZooO0"
   },
   "source": [
    "## Zadanie dodatkowe (3 punkty)\n",
    "\n",
    "Najpopularniejszą techniką nieparametryczną, która pozwala oszacować szerokość kernela, jest **estymator Sheathera-Jonesa (Sheather-Jones estimator)**. Używa on dość zaawansowanej statystyki, aby zminimalizować błąd średniokwadratowy między oszacowaniem KDE a prawdziwym (nieznanym) rozkładem. Typowo daje dużo lepsze wyniki od reguły Silvermana, bo wiele cech nie jest unimodalnych i/lub zbliżonych do rozkładu normalnego.\n",
    "\n",
    "Dodatkowo KDE w postaci ze Scikit-learn, używające wprost definicji i opierające się na najbliższych sąsiadach, nie jest zbyt szybkie. Można pokazać, że sumowanie kerneli z każdego punktu odpowiada operacji **konwolucji (convolution)**, a dzięki temu można wykorzystać **twierdzenie o splocie (convolution theorem)** i obliczyć to za pomocą szybkiej transformaty Fouriera (FFT). Algorytm FFTKDE jest rzędy wielkości szybszy od tradycyjnego podejścia, i świetnie się skaluje.\n",
    "\n",
    "Oba te mechanizmy implementuje biblioteka [KDEpy](https://kdepy.readthedocs.io/en/latest/index.html), z interfejsem bardzo podobnym do Scikit-learn.\n",
    "\n",
    "1. Zaimplementuj KDE Naive Bayesa z pomocą algorytmu FFTKDE.\n",
    "2. Zastosuj estymator Sheathera-Jonesa do oszacowania szerokości kernela. Czy wynik jest lepszy, czy gorszy od tego z zasady Silvermana oraz z walidacji skrośnej?\n",
    "3. Wczytaj zbiór Cod-RNA z laboratorium 3. Wytrenuj na nim algorytmy:\n",
    "   - Gaussian NB\n",
    "   - KDE NB\n",
    "   - FFTKDE NB\n",
    "4. Porównaj wyniki oraz czas treningu. Czy warto było tutaj zastosować algorytm FFTKDE?\n",
    "5. Dokonaj tuningu szerokości kernela za pomocą metod: Silvermana, Sheathera-Jonesa oraz walidacji skrośnej. Które daje najlepszy wynik?"
   ]
  },
  {
   "cell_type": "code",
   "execution_count": null,
   "metadata": {
    "id": "2WDQNVe8ooO0"
   },
   "outputs": [],
   "source": []
  }
 ],
 "metadata": {
  "colab": {
   "provenance": []
  },
  "kernelspec": {
   "display_name": "Python 3 (ipykernel)",
   "language": "python",
   "name": "python3"
  },
  "language_info": {
   "codemirror_mode": {
    "name": "ipython",
    "version": 3
   },
   "file_extension": ".py",
   "mimetype": "text/x-python",
   "name": "python",
   "nbconvert_exporter": "python",
   "pygments_lexer": "ipython3",
   "version": "3.8.6"
  }
 },
 "nbformat": 4,
 "nbformat_minor": 1
}
